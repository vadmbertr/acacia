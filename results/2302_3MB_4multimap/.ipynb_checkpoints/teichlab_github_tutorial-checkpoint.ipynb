{
 "cells": [
  {
   "cell_type": "code",
   "execution_count": 1,
   "id": "fbe4989b",
   "metadata": {},
   "outputs": [
    {
     "ename": "ModuleNotFoundError",
     "evalue": "No module named 'scanpy'",
     "output_type": "error",
     "traceback": [
      "\u001b[0;31m---------------------------------------------------------------------------\u001b[0m",
      "\u001b[0;31mModuleNotFoundError\u001b[0m                       Traceback (most recent call last)",
      "Cell \u001b[0;32mIn[1], line 1\u001b[0m\n\u001b[0;32m----> 1\u001b[0m \u001b[38;5;28;01mimport\u001b[39;00m \u001b[38;5;21;01mscanpy\u001b[39;00m \u001b[38;5;28;01mas\u001b[39;00m \u001b[38;5;21;01msc\u001b[39;00m\n\u001b[1;32m      2\u001b[0m \u001b[38;5;28;01mimport\u001b[39;00m \u001b[38;5;21;01manndata\u001b[39;00m\n\u001b[1;32m      3\u001b[0m \u001b[38;5;28;01mimport\u001b[39;00m \u001b[38;5;21;01mMultiMAP\u001b[39;00m\n",
      "\u001b[0;31mModuleNotFoundError\u001b[0m: No module named 'scanpy'"
     ]
    }
   ],
   "source": [
    "import scanpy as sc\n",
    "import anndata\n",
    "import MultiMAP\n",
    "\n",
    "sc.settings.set_figure_params(dpi=80)"
   ]
  },
  {
   "cell_type": "code",
   "execution_count": null,
   "id": "909ef615",
   "metadata": {},
   "outputs": [],
   "source": [
    "rna = sc.read('rna.h5ad', backup_url='ftp://ngs.sanger.ac.uk/production/teichmann/MultiMAP/rna.h5ad')\n",
    "atac_peaks = sc.read('atac-peaks.h5ad', backup_url='ftp://ngs.sanger.ac.uk/production/teichmann/MultiMAP/atac-peaks.h5ad')\n",
    "atac_genes = sc.read('atac-genes.h5ad', backup_url='ftp://ngs.sanger.ac.uk/production/teichmann/MultiMAP/atac-genes.h5ad')"
   ]
  },
  {
   "cell_type": "code",
   "execution_count": null,
   "id": "8e0cbcd6",
   "metadata": {},
   "outputs": [],
   "source": [
    "MultiMAP.TFIDF_LSI(atac_peaks)\n",
    "atac_genes.obsm['X_lsi'] = atac_peaks.obsm['X_lsi'].copy()\n",
    "\n",
    "rna_pca = rna.copy()\n",
    "sc.pp.scale(rna_pca)\n",
    "sc.pp.pca(rna_pca)\n",
    "rna.obsm['X_pca'] = rna_pca.obsm['X_pca'].copy()"
   ]
  },
  {
   "cell_type": "code",
   "execution_count": null,
   "id": "458bbad8",
   "metadata": {},
   "outputs": [],
   "source": [
    "adata = MultiMAP.Integration([rna, atac_genes], ['X_pca', 'X_lsi'])"
   ]
  },
  {
   "cell_type": "code",
   "execution_count": null,
   "id": "b8144fc4",
   "metadata": {},
   "outputs": [],
   "source": [
    "sc.pl.embedding(adata, 'X_multimap', color=['source','cell_type'])"
   ]
  }
 ],
 "metadata": {
  "kernelspec": {
   "display_name": "Python 3 (ipykernel)",
   "language": "python",
   "name": "python3"
  },
  "language_info": {
   "codemirror_mode": {
    "name": "ipython",
    "version": 3
   },
   "file_extension": ".py",
   "mimetype": "text/x-python",
   "name": "python",
   "nbconvert_exporter": "python",
   "pygments_lexer": "ipython3",
   "version": "3.11.1"
  }
 },
 "nbformat": 4,
 "nbformat_minor": 5
}
